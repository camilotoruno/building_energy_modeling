{
 "cells": [
  {
   "cell_type": "markdown",
   "metadata": {},
   "source": [
    "# Regenerate Project Visualizations\n",
    "\n",
    "This notebook regenerates visualizations for all the ResStock projects.  Specifically, the notebook runs a set of other scripts that regenerates the following:\n",
    "\n",
    "1. The dependency wheel in `<project_name>/util/dependency_wheel` which show the dependencies and dependents of the housing characteristics for this project.\n",
    "2. The dependency graphs in `<project_name>/util/dependency_graphs` which shows the graph of characteristics and their dependencies to help identify high and lower levels of housing characteristics."
   ]
  },
  {
   "cell_type": "markdown",
   "metadata": {},
   "source": [
    "## 1. Regenerate the Dependency Wheels"
   ]
  },
  {
   "cell_type": "code",
   "execution_count": null,
   "metadata": {},
   "outputs": [],
   "source": [
    "%cd dependencyWheels\n",
    "%run ./createDependencyWheelData.ipynb\n",
    "%cd .."
   ]
  },
  {
   "cell_type": "markdown",
   "metadata": {},
   "source": [
    "## 2. Regenerate the Dependency Graphs"
   ]
  },
  {
   "cell_type": "code",
   "execution_count": null,
   "metadata": {},
   "outputs": [],
   "source": [
    "%cd dependencyGraphs\n",
    "%run ./Dependency_Graphs.ipynb\n",
    "%cd .."
   ]
  },
  {
   "cell_type": "code",
   "execution_count": null,
   "metadata": {},
   "outputs": [],
   "source": []
  }
 ],
 "metadata": {
  "kernelspec": {
   "display_name": "Python 3",
   "language": "python",
   "name": "python3"
  },
  "language_info": {
   "codemirror_mode": {
    "name": "ipython",
    "version": 3
   },
   "file_extension": ".py",
   "mimetype": "text/x-python",
   "name": "python",
   "nbconvert_exporter": "python",
   "pygments_lexer": "ipython3",
   "version": "3.7.4"
  }
 },
 "nbformat": 4,
 "nbformat_minor": 2
}
